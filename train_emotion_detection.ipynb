{
 "cells": [
  {
   "attachments": {},
   "cell_type": "markdown",
   "metadata": {},
   "source": [
    "# Emotion Detection Training File"
   ]
  },
  {
   "cell_type": "code",
   "execution_count": 26,
   "metadata": {},
   "outputs": [],
   "source": [
    "## required imports\n",
    "from keras.preprocessing.image import ImageDataGenerator\n",
    "from keras.models import Sequential\n",
    "from keras.layers import Dense,Dropout,Flatten\n",
    "from keras.layers import Conv2D, MaxPooling2D\n",
    "import os\n",
    "from matplotlib import pyplot as plt\n",
    "import numpy as np\n",
    "import scipy"
   ]
  },
  {
   "cell_type": "code",
   "execution_count": 27,
   "metadata": {},
   "outputs": [],
   "source": [
    "## set parameters for images used in training\n",
    "IMG_HEIGHT=48\n",
    "IMG_WIDTH=48\n",
    "batch_size=32"
   ]
  },
  {
   "cell_type": "code",
   "execution_count": 28,
   "metadata": {},
   "outputs": [],
   "source": [
    "#define locations of emotion datasets\n",
    "train_data_dir=\"emotion_data/train/\"\n",
    "validation_data_dir=\"emotion_data/test/\""
   ]
  },
  {
   "cell_type": "code",
   "execution_count": 29,
   "metadata": {},
   "outputs": [
    {
     "name": "stdout",
     "output_type": "stream",
     "text": [
      "Found 28709 images belonging to 7 classes.\n",
      "Found 7178 images belonging to 7 classes.\n"
     ]
    }
   ],
   "source": [
    "## define the image data generators for training and testing\n",
    "\n",
    "train_datagen = ImageDataGenerator(\n",
    "    rescale=1./255,\n",
    "\trotation_range=30,\n",
    "    shear_range=0.3,\n",
    "\tzoom_range=0.3,\n",
    "\thorizontal_flip=True,\n",
    "\tfill_mode='nearest')\n",
    "\n",
    "validation_datagen = ImageDataGenerator(rescale=1./255)\n",
    "\n",
    "train_generator = train_datagen.flow_from_directory(\n",
    "    train_data_dir,\n",
    "    color_mode='grayscale',\n",
    "    target_size=(IMG_HEIGHT, IMG_WIDTH),\n",
    "    batch_size=batch_size,\n",
    "    class_mode='categorical',\n",
    "    shuffle=True)\n",
    "\n",
    "validation_generator= validation_datagen.flow_from_directory(\n",
    "    validation_data_dir,\n",
    "    color_mode='grayscale',\n",
    "    target_size=(IMG_HEIGHT, IMG_WIDTH),\n",
    "    batch_size=batch_size,\n",
    "    class_mode='categorical',\n",
    "    shuffle=True)"
   ]
  },
  {
   "cell_type": "code",
   "execution_count": 30,
   "metadata": {},
   "outputs": [
    {
     "data": {
      "image/png": "[encoded data removed]",
      "text/plain": [
       "<Figure size 640x480 with 1 Axes>"
      ]
     },
     "metadata": {},
     "output_type": "display_data"
    }
   ],
   "source": [
    "#Verify our generator by plotting a few faces and printing corresponding labels\n",
    "class_labels=['Angry','Disgust', 'Fear', 'Happy','Neutral','Sad','Surprise']\n",
    "\n",
    "img, label = train_generator.__next__()\n",
    "\n",
    "import random\n",
    "\n",
    "i=random.randint(0, (img.shape[0])-1)\n",
    "image = img[i]\n",
    "labl = class_labels[label[i].argmax()]\n",
    "plt.imshow(image[:,:,0], cmap='gray')\n",
    "plt.title(labl)\n",
    "plt.show()"
   ]
  },
  {
   "attachments": {},
   "cell_type": "markdown",
   "metadata": {},
   "source": [
    "# Creating the Model"
   ]
  },
  {
   "cell_type": "code",
   "execution_count": 31,
   "metadata": {},
   "outputs": [
    {
     "name": "stdout",
     "output_type": "stream",
     "text": [
      "Model: \"sequential_3\"\n",
      "_________________________________________________________________\n",
      " Layer (type)                Output Shape              Param #   \n",
      "=================================================================\n",
      " conv2d_12 (Conv2D)          (None, 46, 46, 32)        320       \n",
      "                                                                 \n",
      " conv2d_13 (Conv2D)          (None, 44, 44, 64)        18496     \n",
      "                                                                 \n",
      " max_pooling2d_9 (MaxPooling  (None, 22, 22, 64)       0         \n",
      " 2D)                                                             \n",
      "                                                                 \n",
      " dropout_12 (Dropout)        (None, 22, 22, 64)        0         \n",
      "                                                                 \n",
      " conv2d_14 (Conv2D)          (None, 20, 20, 128)       73856     \n",
      "                                                                 \n",
      " max_pooling2d_10 (MaxPoolin  (None, 10, 10, 128)      0         \n",
      " g2D)                                                            \n",
      "                                                                 \n",
      " dropout_13 (Dropout)        (None, 10, 10, 128)       0         \n",
      "                                                                 \n",
      " conv2d_15 (Conv2D)          (None, 8, 8, 256)         295168    \n",
      "                                                                 \n",
      " max_pooling2d_11 (MaxPoolin  (None, 4, 4, 256)        0         \n",
      " g2D)                                                            \n",
      "                                                                 \n",
      " dropout_14 (Dropout)        (None, 4, 4, 256)         0         \n",
      "                                                                 \n",
      " flatten_3 (Flatten)         (None, 4096)              0         \n",
      "                                                                 \n",
      " dense_6 (Dense)             (None, 512)               2097664   \n",
      "                                                                 \n",
      " dropout_15 (Dropout)        (None, 512)               0         \n",
      "                                                                 \n",
      " dense_7 (Dense)             (None, 7)                 3591      \n",
      "                                                                 \n",
      "=================================================================\n",
      "Total params: 2,489,095\n",
      "Trainable params: 2,489,095\n",
      "Non-trainable params: 0\n",
      "_________________________________________________________________\n",
      "None\n"
     ]
    }
   ],
   "source": [
    "model = Sequential()\n",
    "\n",
    "model.add(Conv2D(32, kernel_size=(3, 3), activation='relu', input_shape=(48,48,1)))\n",
    "\n",
    "model.add(Conv2D(64, kernel_size=(3,3), activation='relu'))\n",
    "model.add(MaxPooling2D(pool_size=(2,2)))\n",
    "model.add(Dropout(0.1))\n",
    "\n",
    "model.add(Conv2D(128, kernel_size=(3,3), activation='relu'))\n",
    "model.add(MaxPooling2D(pool_size=(2,2)))\n",
    "model.add(Dropout(0.1))\n",
    "\n",
    "model.add(Conv2D(256, kernel_size=(3,3), activation='relu'))\n",
    "model.add(MaxPooling2D(pool_size=(2,2)))\n",
    "model.add(Dropout(0.1))\n",
    "\n",
    "model.add(Flatten())\n",
    "model.add(Dense(512, activation='relu'))\n",
    "model.add(Dropout(0.2))\n",
    "\n",
    "model.add(Dense(7, activation='softmax'))\n",
    "\n",
    "model.compile(optimizer='adam', loss='categorical_crossentropy', metrics=['accuracy'])\n",
    "print(model.summary())"
   ]
  },
  {
   "cell_type": "code",
   "execution_count": 32,
   "metadata": {},
   "outputs": [],
   "source": [
    "## identify number of total images are in traing and testing files\n",
    "train_path = 'emotion_data/train/'\n",
    "test_path = 'emotion_data/test/'\n",
    "\n",
    "num_train_imgs = 0\n",
    "for root, dirs, files in os.walk(train_path):\n",
    "    num_train_imgs += len(files)\n",
    "\n",
    "num_test_imgs = 0\n",
    "for root, dirs, files in os.walk(test_path):\n",
    "    num_test_imgs += len(files)\n"
   ]
  },
  {
   "cell_type": "code",
   "execution_count": 33,
   "metadata": {},
   "outputs": [
    {
     "name": "stdout",
     "output_type": "stream",
     "text": [
      "Epoch 1/50\n",
      "897/897 [==============================] - 224s 249ms/step - loss: 1.7761 - accuracy: 0.2664 - val_loss: 1.7077 - val_accuracy: 0.3283\n",
      "Epoch 2/50\n",
      "897/897 [==============================] - 88s 98ms/step - loss: 1.6615 - accuracy: 0.3320 - val_loss: 1.4766 - val_accuracy: 0.4220\n",
      "Epoch 3/50\n",
      "897/897 [==============================] - 87s 97ms/step - loss: 1.5428 - accuracy: 0.3940 - val_loss: 1.3895 - val_accuracy: 0.4551\n",
      "Epoch 4/50\n",
      "897/897 [==============================] - 89s 99ms/step - loss: 1.4651 - accuracy: 0.4322 - val_loss: 1.3284 - val_accuracy: 0.4886\n",
      "Epoch 5/50\n",
      "897/897 [==============================] - 88s 98ms/step - loss: 1.4093 - accuracy: 0.4542 - val_loss: 1.2862 - val_accuracy: 0.4944\n",
      "Epoch 6/50\n",
      "897/897 [==============================] - 89s 99ms/step - loss: 1.3661 - accuracy: 0.4768 - val_loss: 1.2134 - val_accuracy: 0.5322\n",
      "Epoch 7/50\n",
      "897/897 [==============================] - 88s 98ms/step - loss: 1.3317 - accuracy: 0.4908 - val_loss: 1.2097 - val_accuracy: 0.5331\n",
      "Epoch 8/50\n",
      "897/897 [==============================] - 88s 99ms/step - loss: 1.3072 - accuracy: 0.5009 - val_loss: 1.1760 - val_accuracy: 0.5518\n",
      "Epoch 9/50\n",
      "897/897 [==============================] - 88s 98ms/step - loss: 1.2939 - accuracy: 0.5065 - val_loss: 1.1707 - val_accuracy: 0.5502\n",
      "Epoch 10/50\n",
      "897/897 [==============================] - 88s 98ms/step - loss: 1.2771 - accuracy: 0.5116 - val_loss: 1.1604 - val_accuracy: 0.5579\n",
      "Epoch 11/50\n",
      "897/897 [==============================] - 88s 99ms/step - loss: 1.2640 - accuracy: 0.5170 - val_loss: 1.1465 - val_accuracy: 0.5650\n",
      "Epoch 12/50\n",
      "897/897 [==============================] - 88s 98ms/step - loss: 1.2530 - accuracy: 0.5220 - val_loss: 1.1315 - val_accuracy: 0.5713\n",
      "Epoch 13/50\n",
      "897/897 [==============================] - 88s 98ms/step - loss: 1.2444 - accuracy: 0.5250 - val_loss: 1.1256 - val_accuracy: 0.5647\n",
      "Epoch 14/50\n",
      "897/897 [==============================] - 88s 98ms/step - loss: 1.2360 - accuracy: 0.5305 - val_loss: 1.1277 - val_accuracy: 0.5744\n",
      "Epoch 15/50\n",
      "897/897 [==============================] - 88s 98ms/step - loss: 1.2187 - accuracy: 0.5367 - val_loss: 1.1244 - val_accuracy: 0.5695\n",
      "Epoch 16/50\n",
      "897/897 [==============================] - 89s 99ms/step - loss: 1.2065 - accuracy: 0.5433 - val_loss: 1.1184 - val_accuracy: 0.5752\n",
      "Epoch 17/50\n",
      "897/897 [==============================] - 88s 98ms/step - loss: 1.1974 - accuracy: 0.5428 - val_loss: 1.1111 - val_accuracy: 0.5804\n",
      "Epoch 18/50\n",
      "897/897 [==============================] - 88s 98ms/step - loss: 1.1990 - accuracy: 0.5437 - val_loss: 1.0964 - val_accuracy: 0.5829\n",
      "Epoch 19/50\n",
      "897/897 [==============================] - 88s 98ms/step - loss: 1.1963 - accuracy: 0.5485 - val_loss: 1.0947 - val_accuracy: 0.5811\n",
      "Epoch 20/50\n",
      "897/897 [==============================] - 88s 99ms/step - loss: 1.1919 - accuracy: 0.5532 - val_loss: 1.1072 - val_accuracy: 0.5755\n",
      "Epoch 21/50\n",
      "897/897 [==============================] - 88s 98ms/step - loss: 1.1845 - accuracy: 0.5516 - val_loss: 1.0836 - val_accuracy: 0.5797\n",
      "Epoch 22/50\n",
      "897/897 [==============================] - 89s 99ms/step - loss: 1.1757 - accuracy: 0.5517 - val_loss: 1.0802 - val_accuracy: 0.5897\n",
      "Epoch 23/50\n",
      "897/897 [==============================] - 88s 99ms/step - loss: 1.1795 - accuracy: 0.5508 - val_loss: 1.0803 - val_accuracy: 0.5919\n",
      "Epoch 24/50\n",
      "897/897 [==============================] - 87s 97ms/step - loss: 1.1665 - accuracy: 0.5596 - val_loss: 1.0707 - val_accuracy: 0.5999\n",
      "Epoch 25/50\n",
      "897/897 [==============================] - 87s 97ms/step - loss: 1.1660 - accuracy: 0.5590 - val_loss: 1.0661 - val_accuracy: 0.5965\n",
      "Epoch 26/50\n",
      "897/897 [==============================] - 88s 98ms/step - loss: 1.1594 - accuracy: 0.5601 - val_loss: 1.0752 - val_accuracy: 0.5931\n",
      "Epoch 27/50\n",
      "897/897 [==============================] - 88s 98ms/step - loss: 1.1530 - accuracy: 0.5622 - val_loss: 1.0662 - val_accuracy: 0.5938\n",
      "Epoch 28/50\n",
      "897/897 [==============================] - 89s 99ms/step - loss: 1.1561 - accuracy: 0.5589 - val_loss: 1.0736 - val_accuracy: 0.5938\n",
      "Epoch 29/50\n",
      "897/897 [==============================] - 88s 99ms/step - loss: 1.1451 - accuracy: 0.5659 - val_loss: 1.0662 - val_accuracy: 0.5940\n",
      "Epoch 30/50\n",
      "897/897 [==============================] - 87s 97ms/step - loss: 1.1440 - accuracy: 0.5679 - val_loss: 1.0593 - val_accuracy: 0.5984\n",
      "Epoch 31/50\n",
      "897/897 [==============================] - 87s 97ms/step - loss: 1.1411 - accuracy: 0.5693 - val_loss: 1.0569 - val_accuracy: 0.6024\n",
      "Epoch 32/50\n",
      "897/897 [==============================] - 87s 96ms/step - loss: 1.1394 - accuracy: 0.5670 - val_loss: 1.0785 - val_accuracy: 0.5904\n",
      "Epoch 33/50\n",
      "897/897 [==============================] - 86s 96ms/step - loss: 1.1373 - accuracy: 0.5675 - val_loss: 1.0647 - val_accuracy: 0.5984\n",
      "Epoch 34/50\n",
      "897/897 [==============================] - 87s 97ms/step - loss: 1.1278 - accuracy: 0.5694 - val_loss: 1.0754 - val_accuracy: 0.5922\n",
      "Epoch 35/50\n",
      "897/897 [==============================] - 87s 97ms/step - loss: 1.1233 - accuracy: 0.5752 - val_loss: 1.0505 - val_accuracy: 0.6088\n",
      "Epoch 36/50\n",
      "897/897 [==============================] - 88s 98ms/step - loss: 1.1243 - accuracy: 0.5710 - val_loss: 1.0449 - val_accuracy: 0.6052\n",
      "Epoch 37/50\n",
      "897/897 [==============================] - 88s 98ms/step - loss: 1.1252 - accuracy: 0.5702 - val_loss: 1.0578 - val_accuracy: 0.6060\n",
      "Epoch 38/50\n",
      "897/897 [==============================] - 89s 99ms/step - loss: 1.1206 - accuracy: 0.5724 - val_loss: 1.0590 - val_accuracy: 0.5996\n",
      "Epoch 39/50\n",
      "897/897 [==============================] - 88s 98ms/step - loss: 1.1169 - accuracy: 0.5768 - val_loss: 1.0546 - val_accuracy: 0.6039\n",
      "Epoch 40/50\n",
      "897/897 [==============================] - 88s 98ms/step - loss: 1.1073 - accuracy: 0.5820 - val_loss: 1.0586 - val_accuracy: 0.5940\n",
      "Epoch 41/50\n",
      "897/897 [==============================] - 87s 98ms/step - loss: 1.1111 - accuracy: 0.5753 - val_loss: 1.0285 - val_accuracy: 0.6131\n",
      "Epoch 42/50\n",
      "897/897 [==============================] - 88s 98ms/step - loss: 1.1148 - accuracy: 0.5786 - val_loss: 1.0547 - val_accuracy: 0.6032\n",
      "Epoch 43/50\n",
      "897/897 [==============================] - 87s 97ms/step - loss: 1.1078 - accuracy: 0.5794 - val_loss: 1.0343 - val_accuracy: 0.6104\n",
      "Epoch 44/50\n",
      "897/897 [==============================] - 87s 97ms/step - loss: 1.1036 - accuracy: 0.5827 - val_loss: 1.0389 - val_accuracy: 0.6080\n",
      "Epoch 45/50\n",
      "897/897 [==============================] - 88s 98ms/step - loss: 1.0975 - accuracy: 0.5852 - val_loss: 1.0394 - val_accuracy: 0.6119\n",
      "Epoch 46/50\n",
      "897/897 [==============================] - 88s 98ms/step - loss: 1.0951 - accuracy: 0.5863 - val_loss: 1.0480 - val_accuracy: 0.6073\n",
      "Epoch 47/50\n",
      "897/897 [==============================] - 89s 99ms/step - loss: 1.0981 - accuracy: 0.5853 - val_loss: 1.0240 - val_accuracy: 0.6193\n",
      "Epoch 48/50\n",
      "897/897 [==============================] - 89s 99ms/step - loss: 1.0972 - accuracy: 0.5810 - val_loss: 1.0287 - val_accuracy: 0.6145\n",
      "Epoch 49/50\n",
      "897/897 [==============================] - 88s 98ms/step - loss: 1.0910 - accuracy: 0.5867 - val_loss: 1.0446 - val_accuracy: 0.6070\n",
      "Epoch 50/50\n",
      "897/897 [==============================] - 89s 99ms/step - loss: 1.0912 - accuracy: 0.5864 - val_loss: 1.0298 - val_accuracy: 0.6143\n"
     ]
    }
   ],
   "source": [
    "#fit the model and save it to exteral file \n",
    "epochs=50\n",
    "\n",
    "history=model.fit(train_generator,\n",
    "                  steps_per_epoch=num_train_imgs//batch_size,\n",
    "                  epochs=epochs,\n",
    "                  validation_data=validation_generator,\n",
    "                  validation_steps=num_test_imgs//batch_size)\n",
    "\n",
    "model.save('emotion_detection_modell_100epochs.h5')\n"
   ]
  }
 ],
 "metadata": {
  "kernelspec": {
   "display_name": "Python 3",
   "language": "python",
   "name": "python3"
  },
  "language_info": {
   "codemirror_mode": {
    "name": "ipython",
    "version": 3
   },
   "file_extension": ".py",
   "mimetype": "text/x-python",
   "name": "python",
   "nbconvert_exporter": "python",
   "pygments_lexer": "ipython3",
   "version": "3.10.4"
  },
  "orig_nbformat": 4
 },
 "nbformat": 4,
 "nbformat_minor": 2
}
